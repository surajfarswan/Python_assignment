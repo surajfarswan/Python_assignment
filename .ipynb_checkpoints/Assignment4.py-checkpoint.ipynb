{
 "cells": [
  {
   "cell_type": "markdown",
   "metadata": {},
   "source": [
    "# Reverse the list"
   ]
  },
  {
   "cell_type": "code",
   "execution_count": 4,
   "metadata": {},
   "outputs": [
    {
     "name": "stdout",
     "output_type": "stream",
     "text": [
      "Enter number of elemnets: 3\n",
      "1\n",
      "2\n",
      "3\n",
      "['3', '2', '1']\n"
     ]
    }
   ],
   "source": [
    "l1 = []\n",
    "n = int(input('Enter number of elemnets: '))\n",
    "for i in range(0,n):\n",
    "    a = input()\n",
    "    l1.append(a)\n",
    "l1.reverse()\n",
    "print(l1)"
   ]
  },
  {
   "cell_type": "markdown",
   "metadata": {},
   "source": [
    "# Print all uppercase letters from a string"
   ]
  },
  {
   "cell_type": "code",
   "execution_count": 9,
   "metadata": {},
   "outputs": [
    {
     "name": "stdout",
     "output_type": "stream",
     "text": [
      "Enter string: hello BYE\n",
      "B Y E "
     ]
    }
   ],
   "source": [
    "Str = input('Enter string: ')\n",
    "for i in Str:\n",
    "    if i>= \"A\" and i<=\"Z\":\n",
    "        print(i,end=\" \")"
   ]
  },
  {
   "cell_type": "markdown",
   "metadata": {},
   "source": [
    "# Split the user input on comma's and store the values in a list as integers."
   ]
  },
  {
   "cell_type": "code",
   "execution_count": 32,
   "metadata": {},
   "outputs": [
    {
     "name": "stdout",
     "output_type": "stream",
     "text": [
      "Enter string: 1 2 3 4 5\n",
      "1,2,3,4,5\n"
     ]
    }
   ],
   "source": [
    "a = input('Enter string: ')\n",
    "b = a.split()\n",
    "print(','.join(b))"
   ]
  },
  {
   "cell_type": "markdown",
   "metadata": {},
   "source": [
    "# Pallindromic String or not"
   ]
  },
  {
   "cell_type": "code",
   "execution_count": 11,
   "metadata": {},
   "outputs": [
    {
     "name": "stdout",
     "output_type": "stream",
     "text": [
      "Enter string: nama\n",
      "Not a pallindromic string.\n"
     ]
    }
   ],
   "source": [
    "Str = input('Enter string: ')\n",
    "Str1 = reversed(Str)\n",
    "if list(Str) == list(Str1):\n",
    "    print('Pallindromic String.')\n",
    "else:\n",
    "    print('Not a pallindromic string.')"
   ]
  },
  {
   "cell_type": "markdown",
   "metadata": {},
   "source": [
    "# Make deepcopy of list and write d/w b/w shallow and deep copy"
   ]
  },
  {
   "cell_type": "code",
   "execution_count": 12,
   "metadata": {},
   "outputs": [
    {
     "name": "stdout",
     "output_type": "stream",
     "text": [
      "[1, 2, 3, [4, 'Heya', 6]]\n",
      "[1, 2, 3, [4, 5, 6]]\n"
     ]
    }
   ],
   "source": [
    "import copy as cp\n",
    "l1 = [1,2,3,[4,5,6]]\n",
    "l2 = cp.deepcopy(l1)\n",
    "l1[3][1]='Heya'\n",
    "print(l1)\n",
    "print(l2)"
   ]
  },
  {
   "cell_type": "markdown",
   "metadata": {},
   "source": [
    "In shallow copy, a reference object is copied in other object. In this changes made to a copy of object reflect in original object.It is done using \"copy()\" function.\n",
    "In deep copy, a copy of object is copied in other object. In this changes made to a copy of object doesn't reflect the original object. It is done using \"deepcopy()\" function."
   ]
  }
 ],
 "metadata": {
  "kernelspec": {
   "display_name": "Python 3",
   "language": "python",
   "name": "python3"
  },
  "language_info": {
   "codemirror_mode": {
    "name": "ipython",
    "version": 3
   },
   "file_extension": ".py",
   "mimetype": "text/x-python",
   "name": "python",
   "nbconvert_exporter": "python",
   "pygments_lexer": "ipython3",
   "version": "3.6.5"
  }
 },
 "nbformat": 4,
 "nbformat_minor": 2
}
