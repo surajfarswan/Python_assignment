{
 "cells": [
  {
   "cell_type": "code",
   "execution_count": 4,
   "metadata": {},
   "outputs": [
    {
     "name": "stdout",
     "output_type": "stream",
     "text": [
      "4\n",
      "5\n",
      "64\n",
      "256\n"
     ]
    }
   ],
   "source": [
    "a = 0b100\n",
    "print(a)\n",
    "\n",
    "a = 5\n",
    "print(a)\n",
    "\n",
    "b = 0o100\n",
    "print(b)\n",
    "\n",
    "c = 0x100\n",
    "print(c)"
   ]
  },
  {
   "cell_type": "code",
   "execution_count": 10,
   "metadata": {},
   "outputs": [
    {
     "name": "stdout",
     "output_type": "stream",
     "text": [
      "64206\n"
     ]
    }
   ],
   "source": [
    "a = 0xFace\n",
    "print(a)"
   ]
  },
  {
   "cell_type": "code",
   "execution_count": 12,
   "metadata": {},
   "outputs": [
    {
     "name": "stdout",
     "output_type": "stream",
     "text": [
      "<class 'float'>\n",
      "1.2e+36\n"
     ]
    }
   ],
   "source": [
    "b = 10.34\n",
    "print(type(b))\n",
    "\n",
    "a = 1.2e36    '''Known as scientific notation and ye valid b hogi'''\n",
    "print(a)"
   ]
  },
  {
   "cell_type": "code",
   "execution_count": 21,
   "metadata": {},
   "outputs": [],
   "source": [
    "f = 0b1.1 '''error'''"
   ]
  },
  {
   "cell_type": "code",
   "execution_count": 22,
   "metadata": {},
   "outputs": [
    {
     "name": "stdout",
     "output_type": "stream",
     "text": [
      "<class 'complex'>\n"
     ]
    }
   ],
   "source": [
    "x = 5 + 16j    '''error bcoz complex class me iota represent j/J se krte h'''\n",
    "print(type(x))"
   ]
  },
  {
   "cell_type": "code",
   "execution_count": 23,
   "metadata": {},
   "outputs": [
    {
     "name": "stdout",
     "output_type": "stream",
     "text": [
      "<class 'complex'>\n",
      "(15+20j)\n",
      "True\n",
      "10.0\n",
      "20.0\n"
     ]
    }
   ],
   "source": [
    "c = 10+20j\n",
    "print(type(c))\n",
    "print(c+5)\n",
    "print(isinstance(c,complex))\n",
    "print(c.real)\n",
    "print(c.imag)"
   ]
  },
  {
   "cell_type": "code",
   "execution_count": 25,
   "metadata": {},
   "outputs": [
    {
     "name": "stdout",
     "output_type": "stream",
     "text": [
      "(4+10j)\n"
     ]
    }
   ],
   "source": [
    "c = 0b100+10j\n",
    "print(c)"
   ]
  },
  {
   "cell_type": "code",
   "execution_count": 26,
   "metadata": {},
   "outputs": [
    {
     "name": "stdout",
     "output_type": "stream",
     "text": [
      "<class 'bool'>\n"
     ]
    }
   ],
   "source": [
    "a = True\n",
    "print(type(a))"
   ]
  },
  {
   "cell_type": "code",
   "execution_count": 27,
   "metadata": {},
   "outputs": [
    {
     "name": "stdout",
     "output_type": "stream",
     "text": [
      "<class 'bool'>\n"
     ]
    }
   ],
   "source": [
    "a = False\n",
    "print(type(a))"
   ]
  },
  {
   "cell_type": "markdown",
   "metadata": {},
   "source": [
    "# Strings"
   ]
  },
  {
   "cell_type": "code",
   "execution_count": 41,
   "metadata": {},
   "outputs": [
    {
     "name": "stdout",
     "output_type": "stream",
     "text": [
      "<class 'str'>\n",
      "<class 'str'>\n",
      "5\n",
      "<class 'str'>\n",
      "i\n",
      "hithere\n",
      "hi10\n"
     ]
    }
   ],
   "source": [
    "# String is immutable\n",
    "\n",
    "c = 'a'\n",
    "print(type(c))\n",
    "\n",
    "c = 'hello'\n",
    "# c[1] = 'h'   '''error'''\n",
    "print(type(c))\n",
    "\n",
    "b = \"hello\"\n",
    "print(len(b))\n",
    "print(type(b))\n",
    "\n",
    "s = \"hi\"\n",
    "print(s[1])\n",
    "# print(s[3])   '''error'''\n",
    "# print(s[1.0])   '''error'''\n",
    "print(s+'there')\n",
    "print(s + '10')    #'''error'''"
   ]
  },
  {
   "cell_type": "code",
   "execution_count": 53,
   "metadata": {},
   "outputs": [
    {
     "name": "stdout",
     "output_type": "stream",
     "text": [
      "    WE ARE LEARNING PYTHON!     \n",
      "    we are learning python!     \n",
      "We are learning Python!\n",
      "-1\n",
      "We are lerning Python!\n",
      "<class 'list'>\n",
      "We are learning Python!\n"
     ]
    }
   ],
   "source": [
    "s = '    We are learning Python!     '\n",
    "p = 'We are learning Python!'\n",
    "print(s.upper())\n",
    "print(s.lower())\n",
    "print(s.strip())   #removes space from front and back\n",
    "\n",
    "# isaplha(), isdigit(), isspace(), \n",
    "# startswith('abc'),endswith('abc')\n",
    "# find('abc') '''and agr find na ho to -1 aata h'''\n",
    "# replace('old','new')\n",
    "# split(' ') '''returns list'''\n",
    "\n",
    "print(p.find('lerning'))\n",
    "print(p.replace('learning','lerning'))\n",
    "a = p.split(' ')\n",
    "print(type(a))\n",
    "print(''.join(p))"
   ]
  },
  {
   "cell_type": "code",
   "execution_count": 59,
   "metadata": {},
   "outputs": [
    {
     "name": "stdout",
     "output_type": "stream",
     "text": [
      "ogra\n",
      "programiz\n",
      "progr\n",
      "amiz\n",
      "pormz\n",
      "zimargorp\n"
     ]
    }
   ],
   "source": [
    "s = 'programiz'\n",
    "print(s[-7:-3])\n",
    "print(s[:])\n",
    "print(s[:5])\n",
    "print(s[5:])\n",
    "print(s[::2])\n",
    "print(s[-1::-1])"
   ]
  },
  {
   "cell_type": "markdown",
   "metadata": {},
   "source": [
    "# List\n",
    "* sequence data type\n",
    "* mutable"
   ]
  },
  {
   "cell_type": "code",
   "execution_count": 67,
   "metadata": {
    "scrolled": true
   },
   "outputs": [
    {
     "name": "stdout",
     "output_type": "stream",
     "text": [
      "['red', 'green', 'pink', 'blue', 'black']\n",
      "green\n",
      "black\n",
      "********************\n",
      "black\n",
      "['red', 'green', 'grey', 'blue', 'black']\n"
     ]
    }
   ],
   "source": [
    "s = ['red','green','pink','blue','black']\n",
    "print(s)\n",
    "print(s[1])\n",
    "print(s[4])\n",
    "# print(s[5])   '''error'''\n",
    "print('*'*20)\n",
    "print(s[-1])\n",
    "# print(s[-6])   '''error'''\n",
    "s[-3]='grey'\n",
    "print(s)"
   ]
  },
  {
   "cell_type": "code",
   "execution_count": 62,
   "metadata": {},
   "outputs": [
    {
     "name": "stdout",
     "output_type": "stream",
     "text": [
      "[10, 'Hi', 20.2]\n"
     ]
    }
   ],
   "source": [
    "l = []\n",
    "l.append(10)\n",
    "l.append('Hi')\n",
    "l.append(20.20)\n",
    "print(l)"
   ]
  },
  {
   "cell_type": "markdown",
   "metadata": {},
   "source": [
    "#### Nested List"
   ]
  },
  {
   "cell_type": "code",
   "execution_count": 65,
   "metadata": {
    "scrolled": true
   },
   "outputs": [
    {
     "name": "stdout",
     "output_type": "stream",
     "text": [
      "a\n",
      "5\n",
      "['happy', [2, 0, 1, 5]]\n"
     ]
    }
   ],
   "source": [
    "l = ['happy',[2,0,1,5]]\n",
    "print(l[0][1])\n",
    "print(l[1][3])\n",
    "print(l)"
   ]
  },
  {
   "cell_type": "code",
   "execution_count": null,
   "metadata": {},
   "outputs": [],
   "source": [
    "# append(element)\n",
    "# insert(index,element) '''given index pe ele insert hojega'''\n",
    "# list1.append(list2)   '''list1 ke end me list2 append hojegi'''\n",
    "# list.index(element)\n",
    "# list.remove(element)\n",
    "# list.sort()\n",
    "# list.reverse()\n",
    "# list.pop(index)\n",
    "# list.count(element)"
   ]
  },
  {
   "cell_type": "code",
   "execution_count": 81,
   "metadata": {},
   "outputs": [
    {
     "name": "stdout",
     "output_type": "stream",
     "text": [
      "['I', 'want', 'to', 'sort', 'this', 'string']\n",
      "None\n"
     ]
    }
   ],
   "source": [
    "l = 'I want to sort this string'\n",
    "a = l.split(' ')\n",
    "print(a)\n",
    "b = a.sort()\n",
    "print(b)\n",
    "# b = ' '.join(a)\n",
    "# print(b)"
   ]
  }
 ],
 "metadata": {
  "kernelspec": {
   "display_name": "Python 3",
   "language": "python",
   "name": "python3"
  },
  "language_info": {
   "codemirror_mode": {
    "name": "ipython",
    "version": 3
   },
   "file_extension": ".py",
   "mimetype": "text/x-python",
   "name": "python",
   "nbconvert_exporter": "python",
   "pygments_lexer": "ipython3",
   "version": "3.6.5"
  }
 },
 "nbformat": 4,
 "nbformat_minor": 2
}
